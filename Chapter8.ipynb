{
 "cells": [
  {
   "cell_type": "markdown",
   "metadata": {
    "deletable": true,
    "editable": true
   },
   "source": [
    "# Chapter 8: Gradient Descent"
   ]
  },
  {
   "cell_type": "code",
   "execution_count": 1,
   "metadata": {
    "collapsed": false,
    "deletable": true,
    "editable": true
   },
   "outputs": [
    {
     "name": "stdout",
     "output_type": "stream",
     "text": [
      "importing Jupyter notebook from Chapter4.ipynb\n"
     ]
    }
   ],
   "source": [
    "# Chapter 8 from Data Science from Scratch\n",
    "from collections import Counter\n",
    "#from linear_algebra import distance, vector_subtract, scalar_multiply\n",
    "from functools import reduce\n",
    "import math, random\n",
    "import sys\n",
    "import NotebookLoader\n",
    "sys.meta_path.append(NotebookLoader.NotebookFinder())\n",
    "import Chapter4 as Ch4\n",
    "\n",
    "isMain = __name__ == \"__main__\""
   ]
  },
  {
   "cell_type": "code",
   "execution_count": 2,
   "metadata": {
    "collapsed": false,
    "deletable": true,
    "editable": true
   },
   "outputs": [
    {
     "name": "stderr",
     "output_type": "stream",
     "text": [
      "/usr/lib64/python3.4/site-packages/matplotlib/font_manager.py:273: UserWarning: Matplotlib is building the font cache using fc-list. This may take a moment.\n",
      "  warnings.warn('Matplotlib is building the font cache using fc-list. This may take a moment.')\n",
      "/usr/lib64/python3.4/site-packages/matplotlib/font_manager.py:273: UserWarning: Matplotlib is building the font cache using fc-list. This may take a moment.\n",
      "  warnings.warn('Matplotlib is building the font cache using fc-list. This may take a moment.')\n"
     ]
    }
   ],
   "source": [
    "def sum_of_squares(v):\n",
    "    \"\"\"computes the sum of squared elements in v\"\"\"\n",
    "    return sum(v_i ** 2 for v_i in v)\n",
    "\n",
    "\n",
    "def difference_quotient(f, x, h):\n",
    "    return (f(x+h) - f(x))/h\n",
    "\n",
    "\n",
    "def square(x):\n",
    "    return x*x\n",
    "\n",
    "\n",
    "def derivative(x):\n",
    "    return 2*x\n",
    "\n",
    "if isMain:\n",
    "    derivative_est = lambda x: difference_quotient(square, x, h=.00001)\n",
    "\n",
    "    import matplotlib.pyplot as plt\n",
    "    x = range(-10,10)\n",
    "    plt.title(\"Actual Derivative vs Esitmates\")\n",
    "    plt.plot(x, [derivative(x_i) for x_i in x], 'rx', label='Actual')\n",
    "    plt.plot(x, [derivative_est(x_i) for x_i in x], 'b+', label='Estimate')\n",
    "    plt.legend(loc=9)\n",
    "    plt.draw()\n",
    "\n",
    "\n",
    "def partial_difference_quotient(f, v, i, h):\n",
    "    \"\"\"compute the ith partial difference quotient of f at v\"\"\"\n",
    "    w = [v_j + (h if j == i else 0) for j, v_j in enumerate(v)]\n",
    "    return (f(w) - f(v)) / h\n",
    "\n",
    "\n",
    "def estimate_gradient(f, v, h=.00001):\n",
    "    return [partial_difference_quotient(f, v, i, h) for i, _ in enumerate(v)]\n"
   ]
  },
  {
   "cell_type": "markdown",
   "metadata": {
    "deletable": true,
    "editable": true
   },
   "source": [
    "Obviously sum of squares has minimum at $v = \\{0\\}$ but lets find this using gradient descent\n",
    "\n",
    "Gradient Descent: Choose random starting point, take steps in the direction of greatest down slope (minimum direction)"
   ]
  },
  {
   "cell_type": "code",
   "execution_count": 3,
   "metadata": {
    "collapsed": false,
    "deletable": true,
    "editable": true
   },
   "outputs": [
    {
     "name": "stdout",
     "output_type": "stream",
     "text": [
      "Approx solutions:  [3.194126207761712e-07, 0.0, 3.8329514493140475e-07]\n"
     ]
    }
   ],
   "source": [
    "def step(v, direction, step_size):\n",
    "    \"\"\"move step_size in the direction from v\"\"\"\n",
    "    return [v_i + step_size * direction_i for v_i, direction_i in zip(v, direction)]\n",
    "\n",
    "\n",
    "def sum_of_squares_gradient(v):\n",
    "    return [2 * v_i for v_i in v]\n",
    "\n",
    "if isMain:\n",
    "    # pick a random starting point\n",
    "    v = [random.randint(-10, 10) for _ in range(3)]\n",
    "\n",
    "    tolerance = .00000001\n",
    "\n",
    "    while True:\n",
    "        gradient = sum_of_squares_gradient(v)\n",
    "        next_v = step(v, gradient, -0.01)\n",
    "        if Ch4.distance(next_v, v) < tolerance:\n",
    "            break\n",
    "        v = next_v\n",
    "    print(\"Approx solutions: \", v)"
   ]
  },
  {
   "cell_type": "markdown",
   "metadata": {
    "deletable": true,
    "editable": true
   },
   "source": [
    "#### But what should the step size be?"
   ]
  },
  {
   "cell_type": "code",
   "execution_count": 4,
   "metadata": {
    "collapsed": true,
    "deletable": true,
    "editable": true
   },
   "outputs": [],
   "source": [
    "# This is a safe apply function, just in case we try a bad step size\n",
    "def safe(f):\n",
    "    \"\"\"\n",
    "        Return a new function that is the same as f, except\n",
    "        that it outputs infinity whenever f produces an error\n",
    "    \"\"\"\n",
    "    def safe_f(*args, **kwargs):\n",
    "        try:\n",
    "            return f(*args, **kwargs)\n",
    "        except:\n",
    "            return float('inf')\n",
    "    return safe_f\n",
    "\n",
    "\n",
    "# Supposing that we have chosen some initial param theta_0, we can implement gradient descent as:\n",
    "def minimize_batch(target_fn, gradient_fn, theta_0, tolerance=.0000001):\n",
    "    \"\"\"\n",
    "        Use gradient descent to find the theta that minimizes target function\n",
    "    \"\"\"\n",
    "\n",
    "    step_sizes = [10**(2-i) for i in range(0,8)]\n",
    "\n",
    "    theta = theta_0\n",
    "    target_fn = safe(target_fn)\n",
    "    value = target_fn(theta)\n",
    "\n",
    "    while True:\n",
    "        gradient = gradient_fn(theta)\n",
    "        next_thetas = [step(theta, gradient, -step_size) for step_size in step_sizes]\n",
    "\n",
    "        # Choose the one that minimizes the error function\n",
    "        next_theta = min(next_thetas, key=target_fn)\n",
    "        next_value = target_fn(next_theta)\n",
    "\n",
    "        # Stop if we're \"converging\"\n",
    "        if abs(value - next_value) < tolerance:\n",
    "            return theta\n",
    "        else:\n",
    "            theta, value = next_theta, next_value\n",
    "\n",
    "\n",
    "def negate(f):\n",
    "    \"\"\"Return a function that for any input x, returns -f(x)\"\"\"\n",
    "    return lambda *args, **kwargs: -f(*args, **kwargs)\n",
    "\n",
    "\n",
    "def negate_all(f):\n",
    "    \"\"\"the same when f returns a list of numbers\"\"\"\n",
    "    return lambda *args, **kwargs: [-y for y in f(*args, **kwargs)]\n",
    "\n",
    "\n",
    "def maximize_batch(target_fn, gradient_fn, theta_0, tolerance=.0000001):\n",
    "    return minimize_batch(negate(target_fn), negate_all(gradient_fn), theta_0, tolerance)"
   ]
  },
  {
   "cell_type": "markdown",
   "metadata": {
    "deletable": true,
    "editable": true
   },
   "source": [
    "#### We can use stochastic gradient descent when the error functions are additive. This is better because it saves time on each step. Stochastic gradient descent computes the gradient for only one point at a time"
   ]
  },
  {
   "cell_type": "code",
   "execution_count": 7,
   "metadata": {
    "collapsed": false,
    "deletable": true,
    "editable": true
   },
   "outputs": [
    {
     "ename": "SyntaxError",
     "evalue": "invalid syntax (<ipython-input-7-a44f1b1eafec>, line 24)",
     "output_type": "error",
     "traceback": [
      "\u001b[0;36m  File \u001b[0;32m\"<ipython-input-7-a44f1b1eafec>\"\u001b[0;36m, line \u001b[0;32m24\u001b[0m\n\u001b[0;31m    print(y_i)\u001b[0m\n\u001b[0m        ^\u001b[0m\n\u001b[0;31mSyntaxError\u001b[0m\u001b[0;31m:\u001b[0m invalid syntax\n"
     ]
    }
   ],
   "source": [
    "# During each cycle we want to iterate through the data in a random order\n",
    "def in_random_order(data):\n",
    "    \"\"\"generator that returns the elements of data in random order\"\"\"\n",
    "    indexes = [i for i,_ in enumerate(data)] # create a list of indexes\n",
    "    random.shuffle(indexes)\n",
    "\n",
    "    # return the data in this shuffled order\n",
    "    for i in indexes:\n",
    "        yield data[i]\n",
    "\n",
    "\n",
    "# Using the random order, we take a gradient step for each data point\n",
    "def minimize_stochastic(target_fn, gradient_fn, x, y, theta_0, alpha_0=.01):\n",
    "\n",
    "    data = zip(x,y)\n",
    "    theta = theta_0\n",
    "    alpha = alpha_0\n",
    "    min_theta, min_value = None, float(\"inf\")\n",
    "    iterations_with_no_improvement = 0\n",
    "\n",
    "    # If we ever go to 100 iterations with no improvement, stop\n",
    "    while iterations_with_no_improvement < 100:\n",
    "        value = sum(target_fn(x_i, y_i, theta) for x_i, y_i in data)\n",
    "\n",
    "        for x_i, y_i in data:\n",
    "            print(theta)\n",
    "            print(x_i)\n",
    "            print(y_i)\n",
    "            print(target_fn(x_i, y_i, theta) )\n",
    "\n",
    "        if value < min_value:\n",
    "            # if we've found a new minimum, remember it\n",
    "            # and go back to the original step size\n",
    "            min_theta, min_value = theta, value\n",
    "            iterations_with_no_improvement = 0\n",
    "            alpha = alpha_0\n",
    "        else:\n",
    "            # otherwise we're no improving, so we should try shrinking the step size\n",
    "            iterations_with_no_improvement += 1\n",
    "            alpha *= .9\n",
    "\n",
    "        # ad take a gradient step for each of the datapoints\n",
    "        for x_i, y_i in in_random_order(data):\n",
    "            gradient_i = gradient_fn(x_i, y_i, theta)\n",
    "            theta = Ch4.vector_subtract(theta, Ch4.scalar_multiply(alpha, gradient_i))\n",
    "\n",
    "    return min_theta\n",
    "\n",
    "def maximize_stochastic(target_fn, gradient_fn, x, y, theta_0, alpha_0=.01):\n",
    "    return minimize_stochastic(negate(target_fn), negate_all(gradient_fn), x, y, theta_0, alpha_0)\n",
    "\n",
    "if isMain:\n",
    "    plt.show()"
   ]
  },
  {
   "cell_type": "code",
   "execution_count": null,
   "metadata": {
    "collapsed": true
   },
   "outputs": [],
   "source": []
  }
 ],
 "metadata": {
  "kernelspec": {
   "display_name": "Python 3",
   "language": "python",
   "name": "python3"
  },
  "language_info": {
   "codemirror_mode": {
    "name": "ipython",
    "version": 3
   },
   "file_extension": ".py",
   "mimetype": "text/x-python",
   "name": "python",
   "nbconvert_exporter": "python",
   "pygments_lexer": "ipython3",
   "version": "3.4.5"
  }
 },
 "nbformat": 4,
 "nbformat_minor": 2
}
