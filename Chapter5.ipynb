{
 "cells": [
  {
   "cell_type": "markdown",
   "metadata": {},
   "source": [
    "# Chapter 5 Statistics"
   ]
  },
  {
   "cell_type": "code",
   "execution_count": 15,
   "metadata": {},
   "outputs": [
    {
     "name": "stdout",
     "output_type": "stream",
     "text": [
      "importing Jupyter notebook from Chapter4.ipynb\n"
     ]
    }
   ],
   "source": [
    "# Import NotebookLoader\n",
    "%run -i AddNBL.py\n",
    "import Chapter4 as Ch4"
   ]
  },
  {
   "cell_type": "code",
   "execution_count": 16,
   "metadata": {},
   "outputs": [
    {
     "name": "stdout",
     "output_type": "stream",
     "text": [
      "(1, 1)\n",
      "49.76\n"
     ]
    }
   ],
   "source": [
    "# Chapter 5: Statistics\n",
    "\n",
    "from __future__ import division\n",
    "import matplotlib.pyplot as plt\n",
    "from collections import Counter\n",
    "import random as r\n",
    "import math\n",
    "\n",
    "\n",
    "# For reproducibility \n",
    "r.seed(1248)\n",
    "\n",
    "\n",
    "if __name__ == \"__main__\":\n",
    "    # Data set:\n",
    "    num_friends = [r.randint(1,100) for i in range(200)]\n",
    "\n",
    "    # Create a histogram for the data\n",
    "    friends_counts = Counter(num_friends)\n",
    "    xs = range(101)\n",
    "    ys = [friends_counts[x] for x in xs]\n",
    "    plt.bar(xs, ys)\n",
    "    plt.axis([0, 101, 0, 25])\n",
    "    plt.title(\"Histogram of Friend Counts\")\n",
    "    plt.xlabel(\"# of friends\")\n",
    "    plt.ylabel(\"# of people\")\n",
    "\n",
    "    num_points = len(num_friends)\n",
    "\n",
    "    largest_value = max(num_friends)\n",
    "    smallest_value = min(num_friends)\n",
    "\n",
    "    sorted_values = sorted(num_friends)\n",
    "    second_smallest_value = sorted_values[1]\n",
    "    print((smallest_value, second_smallest_value))\n",
    "    print(mean(num_friends))"
   ]
  },
  {
   "cell_type": "markdown",
   "metadata": {},
   "source": [
    "### Central Tendencies"
   ]
  },
  {
   "cell_type": "code",
   "execution_count": 17,
   "metadata": {},
   "outputs": [
    {
     "name": "stdout",
     "output_type": "stream",
     "text": [
      "Median: 47.0\n",
      "11\n",
      "26\n",
      "74\n",
      "88\n"
     ]
    }
   ],
   "source": [
    "#### Central Tendencies ####\n",
    "\n",
    "def mean(x):\n",
    "    return sum(x)/len(x)\n",
    "\n",
    "def median(v):\n",
    "    n = len(v)\n",
    "    sorted_v = sorted(v)\n",
    "    midpoint = n // 2\n",
    "\n",
    "    if n % 2 :\n",
    "        return sorted_v[midpoint]\n",
    "    else:\n",
    "        # if the length is even, we need to average\n",
    "        lo = midpoint - 1\n",
    "        hi = midpoint\n",
    "        return (sorted_v[lo] + sorted_v[hi])/2\n",
    "if __name__ == \"__main__\":\n",
    "    print(\"Median: \"  + str(median(num_friends)))\n",
    "\n",
    "# Medians generalize well into quantiles:\n",
    "def quantile(x,p):\n",
    "    p_index = int(p * len(x))\n",
    "    return sorted(x)[p_index]\n",
    "\n",
    "\n",
    "if __name__ == \"__main__\":\n",
    "    print(quantile(num_friends, .10))\n",
    "    print(quantile(num_friends, .25))\n",
    "    print(quantile(num_friends, .75))\n",
    "    print(quantile(num_friends, .90))\n",
    "\n",
    "# The mode is less commonly used but is still useful\n",
    "def mode(x):\n",
    "    \"\"\"Returns a list (might be more than one mode)\"\"\"\n",
    "    counts = Counter(x)\n",
    "    max_count = max(counts.values())\n",
    "    return [x_i for x_i, count in counts.iteritems() if count == max_count]"
   ]
  },
  {
   "cell_type": "markdown",
   "metadata": {},
   "source": [
    "### Dispersion"
   ]
  },
  {
   "cell_type": "code",
   "execution_count": 18,
   "metadata": {},
   "outputs": [
    {
     "data": {
      "image/png": "[encoded data removed]",
      "text/plain": [
       "<matplotlib.figure.Figure at 0x7f624db52e10>"
      ]
     },
     "metadata": {},
     "output_type": "display_data"
    }
   ],
   "source": [
    "#### Dispersion ####\n",
    "\n",
    "# Dispersion refers to a measure of how spread out the data is\n",
    "#   - Examples include range, variance\n",
    "\n",
    "def data_range(x):\n",
    "    return max(x) - min(x)\n",
    "    \n",
    "# Fails in a similar way to median: does not consider all data points\n",
    "\n",
    "# The variance is a measure of dispersion which incorporates all data points\n",
    "\n",
    "def de_mean(x):\n",
    "    \"\"\"returns x - x_bar\"\"\"\n",
    "    x_bar = mean(x)\n",
    "    return [x_i - x_bar for x_i in x]\n",
    "    \n",
    "def variance(x):\n",
    "    \"\"\"Assumes x has at least two elements\"\"\"\n",
    "    n = len(x)\n",
    "    deviations = de_mean(x)\n",
    "    return Ch4.sum_of_squares(deviations) / (n-1)\n",
    "    \n",
    "def standard_deviation(x):\n",
    "    return math.sqrt(variance(x))\n",
    "\n",
    "if __name__ == \"__main__\":\n",
    "    plt.show()"
   ]
  },
  {
   "cell_type": "code",
   "execution_count": 19,
   "metadata": {
    "collapsed": true
   },
   "outputs": [],
   "source": [
    "#### Correlation ####\n",
    "\n",
    "# Covariance measures how two variables vary in tandem from their means\n",
    "def covariance(x, y):\n",
    "    n = len(x)\n",
    "    return Ch4.dot(de_mean(x), de_mean(y))/(n-1)\n",
    "\n",
    "# Correlation is similar to covariance except that it is unitless and normalized (good)\n",
    "def correlation(x, y):\n",
    "    stdev_x = standard_deviation(x)\n",
    "    stdev_y = standard_deviation(y)\n",
    "    if stdev_x > 0 and stdev_y > 0:\n",
    "        return covariance(x, y) / (stdev_x * stdev_y)\n",
    "    else:\n",
    "        return 0 # no variation, corr is 0 (saves divide by 0 error)"
   ]
  },
  {
   "cell_type": "markdown",
   "metadata": {},
   "source": [
    "#### Simpson's Paradox \n",
    "    \n",
    "Correlations can be misleading when confounding variables are ignored\n",
    "\n",
    "Famous example is Simpson's Paradox\n",
    "    \n",
    "The lesson is to always try to know your data and to not blindly trust metrics\n",
    "    \n",
    "Also be aware that Correlation =/> Causation. If x and why are correlated then:\n",
    "- x may cause y\n",
    "- y may cause x\n",
    "- some other factor z may cause x and y\n",
    "- the correlation may mean nothing at all\n"
   ]
  }
 ],
 "metadata": {
  "kernelspec": {
   "display_name": "Python 3",
   "language": "python",
   "name": "python3"
  },
  "language_info": {
   "codemirror_mode": {
    "name": "ipython",
    "version": 3
   },
   "file_extension": ".py",
   "mimetype": "text/x-python",
   "name": "python",
   "nbconvert_exporter": "python",
   "pygments_lexer": "ipython3",
   "version": "3.5.2"
  }
 },
 "nbformat": 4,
 "nbformat_minor": 2
}
