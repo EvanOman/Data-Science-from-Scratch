{
 "cells": [
  {
   "cell_type": "markdown",
   "metadata": {},
   "source": [
    "# Chapter 17: Decision Trees\n",
    "\n",
    "In this chapter we will implement a decision tree classifier. The decision tree will use entropy minimization for partion selection."
   ]
  },
  {
   "cell_type": "markdown",
   "metadata": {},
   "source": [
    "### Entropy\n",
    "\n",
    "Entropy is a measure of uncertainty: the lower the entropy, the lower the uncertainty. If we have a set of data $S$ consisting of observations with a finite set of labels $C_1, C_2, \\ldots C_n$. If each each class $C_i$ has corresponding proportion $p_i$,  the entropy of $S$ can then be defined as:\n",
    "\n",
    "$\\displaystyle H(S) = -p_1 \\log_2(p_1) - \\cdots - p_n \\log_2(p_n) = - \\sum_{i=1}^n p_i \\log_2(p_i)$"
   ]
  },
  {
   "cell_type": "code",
   "execution_count": 1,
   "metadata": {},
   "outputs": [
    {
     "data": {
      "image/png": "[encoded data removed]",
      "text/plain": [
       "<matplotlib.figure.Figure at 0x7f2c0429dd30>"
      ]
     },
     "metadata": {},
     "output_type": "display_data"
    }
   ],
   "source": [
    "import math, my_utils\n",
    "from collections import Counter, defaultdict\n",
    "from matplotlib import pyplot\n",
    "from functools import partial\n",
    "%matplotlib inline\n",
    "\n",
    "\n",
    "def p_log_p(p):\n",
    "    return -p * math.log(p, 2)\n",
    "\n",
    "if __name__ == \"__main__\":\n",
    "    x = my_utils.linspace(0.001,1,100)\n",
    "    y = [p_log_p(x_i) for x_i in x]\n",
    "    pyplot.plot(x, y)\n",
    "    pyplot.title(\"Entropy Function\")\n",
    "    pyplot.xlabel(\"p\")\n",
    "    pyplot.ylabel(\"-p log p\")"
   ]
  },
  {
   "cell_type": "code",
   "execution_count": 2,
   "metadata": {
    "collapsed": true
   },
   "outputs": [],
   "source": [
    "def entropy(class_probabilities):\n",
    "    \"\"\"Given a list of class probabilities, compute the entropy\"\"\"\n",
    "    return sum(p_log_p(p)\n",
    "               for p in class_probabilities if p)\n",
    "\n",
    "def class_probabilities(labels):\n",
    "    total_count = len(labels)\n",
    "    return [count / total_count for count in Counter(labels).values()]\n",
    "\n",
    "def data_entropy(labeled_data):\n",
    "    labels = [label for _, label in labeled_data]\n",
    "    probs = class_probabilities(labels)\n",
    "    return entropy(probs)"
   ]
  },
  {
   "cell_type": "markdown",
   "metadata": {},
   "source": [
    "### Entropy of a Partition\n",
    "\n",
    "Given some partitioning of our dataset into subsets $S_1, \\ldots, S_n$ with corresponding proportions $q_1, \\ldots, q_n$ then the entropy of that partitioning  is the weighted sum:\n",
    "\n",
    "$\\displaystyle H = q_1 H(S_1) + \\cdots + q_n H(S_n) = \\sum_i q_i H(S_i)$"
   ]
  },
  {
   "cell_type": "code",
   "execution_count": 3,
   "metadata": {
    "collapsed": true
   },
   "outputs": [],
   "source": [
    "def partition_entropy(subsets):\n",
    "    \"\"\"find the entropy from this partition of the data into subsets\"\"\"\n",
    "    total_count = sum(len(subset) for subset in subsets)\n",
    "    \n",
    "    return sum(data_entropy(subset) * len(subset) / total_count \n",
    "               for subset in subsets)"
   ]
  },
  {
   "cell_type": "code",
   "execution_count": 4,
   "metadata": {
    "collapsed": true
   },
   "outputs": [],
   "source": [
    "if __name__ == \"__main__\":\n",
    "    inputs = [({'level':'Senior', 'lang':'Java', 'tweets':'no', 'phd':'no'}, False),\n",
    "        ({'level':'Senior','lang':'Java','tweets':'no','phd':'yes'}, False), \n",
    "        ({'level':'Mid', 'lang':'Python', 'tweets':'no', 'phd':'no'}, True), \n",
    "        ({'level':'Junior','lang':'Python','tweets':'no','phd':'no'}, True),\n",
    "        ({'level':'Junior', 'lang':'R', 'tweets':'yes', 'phd':'no'},      True),\n",
    "        ({'level':'Junior', 'lang':'R', 'tweets':'yes', 'phd':'yes'},     False),\n",
    "        ({'level':'Mid', 'lang':'R', 'tweets':'yes', 'phd':'yes'},         True),\n",
    "        ({'level':'Senior', 'lang':'Python', 'tweets':'no', 'phd':'no'},  False),\n",
    "        ({'level':'Senior', 'lang':'R', 'tweets':'yes', 'phd':'no'},       True),\n",
    "        ({'level':'Junior', 'lang':'Python', 'tweets':'yes', 'phd':'no'},  True),\n",
    "        ({'level':'Senior', 'lang':'Python', 'tweets':'yes', 'phd':'yes'}, True),\n",
    "        ({'level':'Mid', 'lang':'Python', 'tweets':'no', 'phd':'yes'},     True),\n",
    "        ({'level':'Mid', 'lang':'Java', 'tweets':'yes', 'phd':'no'},       True),\n",
    "        ({'level':'Junior', 'lang':'Python', 'tweets':'no', 'phd':'yes'}, False)]"
   ]
  },
  {
   "cell_type": "code",
   "execution_count": 5,
   "metadata": {
    "collapsed": true
   },
   "outputs": [],
   "source": [
    "def partition_by(inputs, attribute):\n",
    "    \"\"\"each input is a pair (attribute_dict, label)\n",
    "    returns a dict : attribute => inputs\"\"\"\n",
    "    groups = defaultdict(list)\n",
    "    for input in inputs:\n",
    "        key = input[0][attribute] # get the value of the specified attribute\n",
    "        groups[key].append(input) # then add this input to the correct list\n",
    "    return groups\n",
    "\n",
    "def partition_entropy_by(inputs, attribute):\n",
    "    \"\"\"computes the entropy corresponding to the given partition\"\"\"\n",
    "    partitions = partition_by(inputs, attribute)\n",
    "    return partition_entropy(partitions.values())"
   ]
  },
  {
   "cell_type": "markdown",
   "metadata": {},
   "source": [
    "### Trying out partitioning"
   ]
  },
  {
   "cell_type": "code",
   "execution_count": 6,
   "metadata": {},
   "outputs": [
    {
     "name": "stdout",
     "output_type": "stream",
     "text": [
      "level:\t 0.694\n",
      "lang:\t 0.860\n",
      "tweets:\t 0.788\n",
      "phd:\t 0.892\n"
     ]
    }
   ],
   "source": [
    "if __name__ == \"__main__\":\n",
    "    for attr in ['level','lang','tweets','phd']: \n",
    "        print(\"{}:\\t {:1.3f}\".format(attr, partition_entropy_by(inputs, attr)))"
   ]
  },
  {
   "cell_type": "markdown",
   "metadata": {},
   "source": [
    "### Constructing a Tree\n",
    "For the purpose of this algorithm we will implement a barebones tree structure where each node is either `True` or `False` (these being the leaf nodes) or a `(attr, subtree_dict)` tuple.\n",
    "\n",
    "Note that for attribute values not present in the training data we will no corresponding subtree. For these cases we will simply apply the most common decision label."
   ]
  },
  {
   "cell_type": "code",
   "execution_count": 7,
   "metadata": {
    "collapsed": true
   },
   "outputs": [],
   "source": [
    "def classify(tree, input):\n",
    "    \"\"\"classify the input given a decision tree\"\"\"\n",
    "    \n",
    "    # if the tree is a leaf node, return the value\n",
    "    if tree in [True, False]:\n",
    "        return tree\n",
    "    \n",
    "    # otherwise this tree consists of an attribute to split on\n",
    "    # and a dictionary whose keys are values of that attribute\n",
    "    # and whose values are subtrees to consider next\n",
    "    attribute, subtree_dict = tree\n",
    "    \n",
    "    subtree_key = input.get(attribute)     # None if attribute not present\n",
    "    \n",
    "    if subtree_key not in subtree_dict:    # if no subtree for key,\n",
    "        subtree_key = None                 # we'll use the None subtree\n",
    "    \n",
    "    subtree = subtree_dict[subtree_key]    # choose the most appropriate subtree\n",
    "    return classify(subtree, input)        # and use it to classify the input\n",
    "\n",
    "def build_tree_id3(inputs, split_candidates=None):\n",
    "    \n",
    "    # if this is a first pass,\n",
    "    # all of the keys on the first input are split candidates\n",
    "    if split_candidates is None:\n",
    "        split_candidates = inputs[0][0].keys()\n",
    "        \n",
    "    # counts true and falses in the inputs\n",
    "    num_inputs = len(inputs)\n",
    "    num_true = len([label for _, label in inputs if label])\n",
    "    num_false = num_inputs - num_true\n",
    "    \n",
    "    if num_true == 0: return False     # no trues? return false\n",
    "    if num_false == 0: return True      # no falses? return true\n",
    "    \n",
    "    if not split_candidates:            # if no splits left,  \n",
    "        return num_true >= num_falses  # return the majority leaf\n",
    "    \n",
    "    # otherwise split on the best attribute \n",
    "    best_attr = min(split_candidates, \n",
    "                    key=partial(partition_entropy_by, inputs))\n",
    "    \n",
    "    partitions = partition_by(inputs, best_attr)\n",
    "    new_candidates = [a for a in split_candidates if a != best_attr]\n",
    "    \n",
    "    # rescursively build the subtrees\n",
    "    subtrees = {attribute_value: build_tree_id3(subset, new_candidates)\n",
    "                for attribute_value, subset in partitions.items()}\n",
    "    \n",
    "    subtrees[None] = num_true > num_false # default case\n",
    "    \n",
    "    return (best_attr, subtrees)"
   ]
  },
  {
   "cell_type": "markdown",
   "metadata": {},
   "source": [
    "### Build and Apply Tree"
   ]
  },
  {
   "cell_type": "code",
   "execution_count": 8,
   "metadata": {},
   "outputs": [
    {
     "name": "stdout",
     "output_type": "stream",
     "text": [
      "('level', {'Mid': True, None: True, 'Senior': ('tweets', {'no': False, 'yes': True, None: False}), 'Junior': ('phd', {'no': True, 'yes': False, None: True})})\n",
      "The class of input one is True\n",
      "The class of input two is False\n"
     ]
    }
   ],
   "source": [
    "if __name__ == \"__main__\":\n",
    "    tree = build_tree_id3(inputs)\n",
    "    \n",
    "    print(tree)\n",
    "    \n",
    "    class1 = classify(tree, { \"level\" : \"Junior\",\n",
    "                 \"lang\" : \"Java\",\n",
    "                 \"tweets\" : \"yes\",\n",
    "                 \"phd\" : \"no\"} )\n",
    "    \n",
    "    print(\"The class of input one is {0}\".format(class1))\n",
    "    \n",
    "    class2 = classify(tree, { \"level\" : \"Junior\",\n",
    "                 \"lang\" : \"Java\",\n",
    "                 \"tweets\" : \"yes\",\n",
    "                 \"phd\" : \"yes\"} )\n",
    "    \n",
    "    print(\"The class of input two is {0}\".format(class2))"
   ]
  },
  {
   "cell_type": "markdown",
   "metadata": {},
   "source": [
    "### Random Forests\n",
    "As written, our decision tree will fit the training data perfectly. Clearly this will lead to masssive overfitting. There are several ways to change the Decision Tree implementation in order to fix the overfitting issue.\n",
    "\n",
    "Instead of considering those approaches we will implement a Random Forest model. Random Forests consist of a collection of Decision Trees which vote on which class to apply. Ideally these tree would be sufficiently varied in order to prevent the same overfitting issues."
   ]
  },
  {
   "cell_type": "markdown",
   "metadata": {},
   "source": [
    "#### Random Forest Classifier"
   ]
  },
  {
   "cell_type": "code",
   "execution_count": 16,
   "metadata": {
    "collapsed": true
   },
   "outputs": [],
   "source": [
    "def forest_classify(trees, input):\n",
    "    votes = [classify(tree, input) for tree in trees]\n",
    "    vote_counts = Counter(votes)\n",
    "    return vote_counts.most_common(1)[0][0]"
   ]
  },
  {
   "cell_type": "markdown",
   "metadata": {},
   "source": [
    "#### Bootstrap Aggregating (Bagging)\n",
    "\n",
    "There are two different ways of making the random decision trees. First is Bootstrap Aggregating or Bagging. Bagging is the method of training a model on different subsets of the overall training set. IF we sample properly the trees we get from this method is sufficiently diverse.\n",
    "\n",
    "#### Ensembling\n",
    "\n",
    "Rather than vary the data used to train the tree, Ensembling changes the way the tree is formed. At each split decision we only consider a random subset of all of the features.\n",
    "\n",
    "```\n",
    "# if there's already few enough split candidates, look at all of them\n",
    "if len(split_candidates) <= self.num_split_candidates:\n",
    "sampled_split_candidates = split_candidates\n",
    "# otherwise pick a random sample\n",
    "else:\n",
    "sampled_split_candidates = random.sample(split_candidates,\n",
    "self.num_split_candidates)\n",
    "# now choose the best attribute only from those candidates\n",
    "best_attribute = min(sampled_split_candidates,\n",
    "key=partial(partition_entropy_by, inputs))\n",
    "partitions = partition_by(inputs, best_attribute)\n",
    "```\n",
    "\n",
    "By proceeding in this manner the trees should be sufficiently de-correlated for use in our random classifier"
   ]
  }
 ],
 "metadata": {
  "kernelspec": {
   "display_name": "Python 3",
   "language": "python",
   "name": "python3"
  },
  "language_info": {
   "codemirror_mode": {
    "name": "ipython",
    "version": 3
   },
   "file_extension": ".py",
   "mimetype": "text/x-python",
   "name": "python",
   "nbconvert_exporter": "python",
   "pygments_lexer": "ipython3",
   "version": "3.5.2"
  }
 },
 "nbformat": 4,
 "nbformat_minor": 2
}
