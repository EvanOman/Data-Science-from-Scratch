{
 "cells": [
  {
   "cell_type": "markdown",
   "metadata": {},
   "source": [
    "# Chapter 18: Neural Networks"
   ]
  },
  {
   "cell_type": "markdown",
   "metadata": {},
   "source": [
    "### Perceptrons\n",
    "Perceptons are a simple model of a single neuron. They take in a vector of inputs, computes the dot product between the input vector and its internal weights, and \"fires\" if the dot product exceeds some threshold (usually 0)"
   ]
  },
  {
   "cell_type": "code",
   "execution_count": 1,
   "metadata": {},
   "outputs": [
    {
     "name": "stdout",
     "output_type": "stream",
     "text": [
      "importing Jupyter notebook from Chapter4.ipynb\n"
     ]
    }
   ],
   "source": [
    "# Import needed notebooks\n",
    "import NotebookLoader, sys\n",
    "sys.meta_path.append(NotebookLoader.NotebookFinder())\n",
    "import Chapter4 as Ch4\n",
    "\n",
    "def step_function(x):\n",
    "    return 1 if x >= 0 else 0\n",
    "\n",
    "def perceptron_output(weights, bias, x):\n",
    "    \"\"\"returns 1 if the perceptron 'fires', 0 otherwise\"\"\"\n",
    "    calculation = Ch4.dot(weights, x) + bias\n",
    "    return step_function(calculation)"
   ]
  },
  {
   "cell_type": "markdown",
   "metadata": {},
   "source": [
    "### Feed Forward Neural Network\n",
    "Modeling a single neuron is not all that useful since it is fundamentally limited to modelling only simple functions. In order to model more complicated behavior we will need to connect multiple neurons together in multiple layers.\n",
    "\n",
    "In order to succesfully train this more complicated network we will need to use calculus which requires differentiable functions. Consequently we will replace the discrete `step_function` with a nice smooth `sigmoid` function."
   ]
  },
  {
   "cell_type": "code",
   "execution_count": 2,
   "metadata": {},
   "outputs": [
    {
     "data": {
      "image/png": "[encoded data removed]",
      "text/plain": [
       "<matplotlib.figure.Figure at 0x7f2ba8f33588>"
      ]
     },
     "metadata": {},
     "output_type": "display_data"
    }
   ],
   "source": [
    "import my_utils, math\n",
    "%matplotlib inline\n",
    "import matplotlib.pyplot as plt\n",
    "def sigmoid(t):\n",
    "    \"\"\"Apply the sigmoid function to t\"\"\"\n",
    "    return 1 / (1 + math.exp(-t))\n",
    "\n",
    "if __name__ == \"__main__\":\n",
    "    n = 100\n",
    "    x = my_utils.linspace(-10, 10, 100)\n",
    "    y = [sigmoid(x_i) for x_i in x]\n",
    "    plt.plot(x,y)\n",
    "    plt.grid()\n",
    "    plt.title(\"Sigmoid Function\")\n",
    "    plt.draw()"
   ]
  },
  {
   "cell_type": "code",
   "execution_count": 3,
   "metadata": {
    "collapsed": true
   },
   "outputs": [],
   "source": [
    "def neuron_output(weights, inputs):\n",
    "    return sigmoid(Ch4.dot(weights, inputs))"
   ]
  },
  {
   "cell_type": "markdown",
   "metadata": {},
   "source": [
    "### NN Feed Forward\n",
    "Given the output function above we can represent a Neural Network as a List (Layers) of Lists (Neurons) of Lists (Weights).\n",
    "\n",
    "With this representation we can \"feed\" an input vector \"forward\" through the network using the `feed_forward` method defined below:"
   ]
  },
  {
   "cell_type": "code",
   "execution_count": 4,
   "metadata": {
    "collapsed": true
   },
   "outputs": [],
   "source": [
    "def feed_forward(neural_network, input_vector):\n",
    "    \"\"\"\n",
    "        takes in a neural network (represented as a list of lists of lists of weights)\n",
    "        and returns the output from forward-propagating the input\n",
    "    \"\"\"\n",
    "    \n",
    "    # TODO: This list representaion only works in fully connected dags, think about \n",
    "    # more general implementation?\n",
    "    \n",
    "    outputs = []\n",
    "    \n",
    "    # process one layer at a time\n",
    "    for layer in neural_network:\n",
    "        input_with_bias = input_vector + [1]\n",
    "        output = [neuron_output(neuron, input_with_bias) for neuron in layer]\n",
    "        outputs.append(output)\n",
    "        \n",
    "        # the output of this layer is the input to the next layer\n",
    "        input_vector = output\n",
    "        \n",
    "    return outputs"
   ]
  },
  {
   "cell_type": "code",
   "execution_count": null,
   "metadata": {
    "collapsed": true
   },
   "outputs": [],
   "source": []
  }
 ],
 "metadata": {
  "kernelspec": {
   "display_name": "Python 3",
   "language": "python",
   "name": "python3"
  },
  "language_info": {
   "codemirror_mode": {
    "name": "ipython",
    "version": 3
   },
   "file_extension": ".py",
   "mimetype": "text/x-python",
   "name": "python",
   "nbconvert_exporter": "python",
   "pygments_lexer": "ipython3",
   "version": "3.4.5"
  }
 },
 "nbformat": 4,
 "nbformat_minor": 2
}
