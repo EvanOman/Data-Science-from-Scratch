{
 "cells": [
  {
   "cell_type": "markdown",
   "metadata": {
    "deletable": true,
    "editable": true
   },
   "source": [
    "# Chapter 18: Neural Networks"
   ]
  },
  {
   "cell_type": "markdown",
   "metadata": {
    "deletable": true,
    "editable": true
   },
   "source": [
    "### Perceptrons\n",
    "Perceptons are a simple model of a single neuron. They take in a vector of inputs, computes the dot product between the input vector and its internal weights, and \"fires\" if the dot product exceeds some threshold (usually 0)"
   ]
  },
  {
   "cell_type": "code",
   "execution_count": 1,
   "metadata": {
    "collapsed": false,
    "deletable": true,
    "editable": true
   },
   "outputs": [
    {
     "name": "stdout",
     "output_type": "stream",
     "text": [
      "importing Jupyter notebook from Chapter4.ipynb\n"
     ]
    }
   ],
   "source": [
    "# Import NotebookLoader\n",
    "%run -i AddNBL.py\n",
    "import Chapter4 as Ch4\n",
    "\n",
    "def step_function(x):\n",
    "    return 1 if x >= 0 else 0\n",
    "\n",
    "def perceptron_output(weights, bias, x):\n",
    "    \"\"\"returns 1 if the perceptron 'fires', 0 otherwise\"\"\"\n",
    "    calculation = Ch4.dot(weights, x) + bias\n",
    "    return step_function(calculation)"
   ]
  },
  {
   "cell_type": "markdown",
   "metadata": {
    "deletable": true,
    "editable": true
   },
   "source": [
    "### Feed Forward Neural Network\n",
    "Modeling a single neuron is not all that useful since it is fundamentally limited to modelling only simple functions. In order to model more complicated behavior we will need to connect multiple neurons together in multiple layers.\n",
    "\n",
    "In order to succesfully train this more complicated network we will need to use calculus which requires differentiable functions. Consequently we will replace the discrete `step_function` with a nice smooth `sigmoid` function."
   ]
  },
  {
   "cell_type": "code",
   "execution_count": 2,
   "metadata": {
    "collapsed": false,
    "deletable": true,
    "editable": true
   },
   "outputs": [
    {
     "data": {
      "image/png": "[encoded data removed]",
      "text/plain": [
       "<matplotlib.figure.Figure at 0x7fc554412908>"
      ]
     },
     "metadata": {},
     "output_type": "display_data"
    }
   ],
   "source": [
    "import my_utils, math\n",
    "%matplotlib inline\n",
    "import matplotlib.pyplot as plt\n",
    "def sigmoid(t):\n",
    "    \"\"\"Apply the sigmoid function to t\"\"\"\n",
    "    return 1 / (1 + math.exp(-t))\n",
    "\n",
    "if __name__ == \"__main__\":\n",
    "    n = 100\n",
    "    x = my_utils.linspace(-10, 10, 100)\n",
    "    y = [sigmoid(x_i) for x_i in x]\n",
    "    plt.plot(x,y)\n",
    "    plt.grid()\n",
    "    plt.title(\"Sigmoid Function\")\n",
    "    plt.draw()"
   ]
  },
  {
   "cell_type": "code",
   "execution_count": 3,
   "metadata": {
    "collapsed": true,
    "deletable": true,
    "editable": true
   },
   "outputs": [],
   "source": [
    "def neuron_output(weights, inputs):\n",
    "    return sigmoid(Ch4.dot(weights, inputs))"
   ]
  },
  {
   "cell_type": "markdown",
   "metadata": {
    "deletable": true,
    "editable": true
   },
   "source": [
    "### NN Feed Forward\n",
    "Given the output function above we can represent a Neural Network as a List (Layers) of Lists (Neurons) of Lists (Weights).\n",
    "\n",
    "With this representation we can \"feed\" an input vector \"forward\" through the network using the `feed_forward` method defined below:"
   ]
  },
  {
   "cell_type": "code",
   "execution_count": 4,
   "metadata": {
    "collapsed": true,
    "deletable": true,
    "editable": true
   },
   "outputs": [],
   "source": [
    "def feed_forward(neural_network, input_vector):\n",
    "    \"\"\"\n",
    "        takes in a neural network (represented as a list of lists of lists of weights)\n",
    "        and returns the output from forward-propagating the input\n",
    "    \"\"\"\n",
    "    \n",
    "    # TODO: This list representaion only works in fully connected dags, think about \n",
    "    # more general implementation?\n",
    "    \n",
    "    outputs = []\n",
    "    \n",
    "    # process one layer at a time\n",
    "    for layer in neural_network:\n",
    "        input_with_bias = input_vector + [1]\n",
    "        output = [neuron_output(neuron, input_with_bias) for neuron in layer]\n",
    "        outputs.append(output)\n",
    "        \n",
    "        # the output of this layer is the input to the next layer\n",
    "        input_vector = output\n",
    "        \n",
    "    return outputs"
   ]
  },
  {
   "cell_type": "markdown",
   "metadata": {
    "collapsed": true,
    "deletable": true,
    "editable": true
   },
   "source": [
    "### Backpropagation\n",
    "Rather than \"wiring\" a network by hand we want to train the neural network based on training data. One approach to this is using \"backpropagation\" which is similar to the gradient descent we used before (which requires the smooth error surface that the sigmoid function provides).\n",
    "\n",
    "Imagine we have a set of input vectors and a corresponding set of output vectors. We then adjust the initial weights of the network according to the following algorithm:\n",
    "\n",
    "1. Run `feed_forward` on an input vector to provide the output of all the neurons in the network.\n",
    "2. This results in an error for each output neuron: the difference between the output and the expected output.\n",
    "3. Compute the gradient of this error as a function of the weights of each neuron's weights. Use this gradient to adjust the weights in the direction which reduces the error the most.\n",
    "4. Propagate these errors backward to infer the errors of the hidden layers\n",
    "5. Compute the gradient of these errors and adjust the weights in the same manner\n",
    "\n",
    "These steps are run many times until the network converges."
   ]
  },
  {
   "cell_type": "code",
   "execution_count": null,
   "metadata": {
    "collapsed": true
   },
   "outputs": [],
   "source": [
    "def backpropagate(network, input_vector, targets):\n",
    "    hidden_outputs, outputs = feed_forward(networkm input_vector)\n",
    "    \n",
    "    # the output * (1 - output) is from the derivative of the sigmoid\n",
    "    output_deltas = [output * (1 - output) * (output - target) \n",
    "                    for output, target in zip(outputs, targets)]\n",
    "    \n",
    "    # adjust weights for output layer, one neuron at a time\n",
    "    for i, output_neuron in enumerate(network[-1]):\n",
    "        # focus on the ith output layer neuron\n",
    "        for j, hidden_neuron in enumerate(hidden_outputs + [1]):\n",
    "            # adjust the jth weight based on both this neuron's\n",
    "            # delta and its jth input\n",
    "            output_neuron[j] -= output_deltas[i] * hidden_output\n",
    "            \n",
    "    # backpropagate errors to the hidden layer\n",
    "    hidden_deltas = [hidden_output * (1 - hidden_output) *\n",
    "                     Ch4.dot(output_deltas, [n[i] for n in output_layer])\n",
    "                     for i, hidden_output in enumerate(hidden_outputs)]\n",
    "    \n",
    "    # adjust weights for hidden layer, one neuron at a time\n",
    "    for i, hidden_neuron in enumerate(network[0]):\n",
    "        for j, input in enumerate(input_vector + [1]):\n",
    "            hidden_neuron[j] -= hidden_deltas[i] * input"
   ]
  },
  {
   "cell_type": "markdown",
   "metadata": {},
   "source": [
    "### A Note On This Implementation\n",
    "> This is pretty much doing the same thing as if you explicitly wrote the squared error as a function of the weights and used the minimize_stochastic function we built in Chapter 8.\n",
    "In this case, explicitly writing out the gradient function turns out to be kind of a pain. If you know calculus and the chain rule, the mathematical details are relatively straightforward, but keeping the notation straight (“the partial derivative of the error function with respect to the weight that neuron i assigns to the input coming from neuron j”) is not much fun."
   ]
  },
  {
   "cell_type": "markdown",
   "metadata": {},
   "source": [
    "### Example: Defeating Captcha\n",
    "For a sample problem we will be \"defeating\" a captcha system by classifying the test image as one of the numbers from 0 to 9. To do so we will represent each digit image as a block of 0 and 1 symbols. \n",
    "\n",
    "Our outputs will simply be a boolean vector whose (hopefully) single true value's index corresponds to the predicted label. For example a prediction of `four` would have the output vector `[0,0,0,0,1,0,0,0,0,0]`."
   ]
  },
  {
   "cell_type": "code",
   "execution_count": 9,
   "metadata": {
    "collapsed": false
   },
   "outputs": [
    {
     "name": "stdout",
     "output_type": "stream",
     "text": [
      "\n",
      "@@@@@\n",
      "@   @\n",
      "@   @\n",
      "@   @\n",
      "@@@@@\n",
      "\n",
      "\n",
      "  @  \n",
      "  @  \n",
      "  @  \n",
      "  @  \n",
      "  @  \n",
      "\n",
      "\n",
      "@@@@@\n",
      "    @\n",
      "@@@@@\n",
      "@    \n",
      "@@@@@\n",
      "\n"
     ]
    }
   ],
   "source": [
    "if __name__ == \"__main__\":\n",
    "    digit_data = [[1,1,1,1,1,1,0,0,0,1,1,0,0,0,1,1,0,0,0,1,1,1,1,1,1],\n",
    "    [0,0,1,0,0,0,0,1,0,0,0,0,1,0,0,0,0,1,0,0,0,0,1,0,0],\n",
    "    [1,1,1,1,1,0,0,0,0,1,1,1,1,1,1,1,0,0,0,0,1,1,1,1,1],\n",
    "    [1,1,1,1,1,0,0,0,0,1,1,1,1,1,1,0,0,0,0,1,1,1,1,1,1],\n",
    "    [1,0,0,0,1,1,0,0,0,1,1,1,1,1,1,0,0,0,0,1,0,0,0,0,1],\n",
    "    [1,1,1,1,1,1,0,0,0,0,1,1,1,1,1,0,0,0,0,1,1,1,1,1,1],\n",
    "    [1,1,1,1,1,1,0,0,0,0,1,1,1,1,1,1,0,0,0,1,1,1,1,1,1],\n",
    "    [1,1,1,1,1,0,0,0,0,1,0,0,0,0,1,0,0,0,0,1,0,0,0,0,1],\n",
    "    [1,1,1,1,1,1,0,0,0,1,1,1,1,1,1,1,0,0,0,1,1,1,1,1,1],\n",
    "    [1,1,1,1,1,1,0,0,0,1,1,1,1,1,1,0,0,0,0,1,1,1,1,1,1]]\n",
    "\n",
    "    def print_digit(digit):\n",
    "        print()\n",
    "        for i in range(5):\n",
    "            for j in range(5):\n",
    "                value = digit[i * 5 + j]\n",
    "\n",
    "                print('@' if value else ' ', end='')\n",
    "            print()\n",
    "        print()     \n",
    "\n",
    "    for digit in digit_data[:3]:\n",
    "        print_digit(digit)"
   ]
  },
  {
   "cell_type": "code",
   "execution_count": null,
   "metadata": {
    "collapsed": true
   },
   "outputs": [],
   "source": []
  }
 ],
 "metadata": {
  "kernelspec": {
   "display_name": "Python 3",
   "language": "python",
   "name": "python3"
  },
  "language_info": {
   "codemirror_mode": {
    "name": "ipython",
    "version": 3
   },
   "file_extension": ".py",
   "mimetype": "text/x-python",
   "name": "python",
   "nbconvert_exporter": "python",
   "pygments_lexer": "ipython3",
   "version": "3.6.0"
  }
 },
 "nbformat": 4,
 "nbformat_minor": 2
}
