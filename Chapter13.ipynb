{
 "cells": [
  {
   "cell_type": "markdown",
   "metadata": {},
   "source": [
    "# Chapter 13: Naive Bayes\n",
    "\n",
    "Here we will build a Naive Bayes Classifier for the Spam/Ham classification problem. Naive Baye is built on Bayes theorem, as given below:\n",
    "\n",
    "<br>\n",
    "\n",
    "<center>\n",
    "$P(A|B) = \\displaystyle \\frac{P(B|A)P(A)}{P(B|A)P(A)+P(B|\\neg A)P(\\neg A)} $\n",
    "</center>\n",
    "\n",
    "<br>\n",
    "\n",
    "In the email classifcation domain we would treat the event $A$ as the \"this email is spam\" and then the event $B$ as some feature of the given email."
   ]
  }
 ],
 "metadata": {
  "kernelspec": {
   "display_name": "Python 3",
   "language": "python",
   "name": "python3"
  },
  "language_info": {
   "codemirror_mode": {
    "name": "ipython",
    "version": 3
   },
   "file_extension": ".py",
   "mimetype": "text/x-python",
   "name": "python",
   "nbconvert_exporter": "python",
   "pygments_lexer": "ipython3",
   "version": "3.4.5"
  }
 },
 "nbformat": 4,
 "nbformat_minor": 2
}
