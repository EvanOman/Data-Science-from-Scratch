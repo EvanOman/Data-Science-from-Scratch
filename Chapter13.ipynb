{
 "cells": [
  {
   "cell_type": "markdown",
   "metadata": {},
   "source": [
    "# Chapter 13: Naive Bayes\n",
    "\n",
    "### Some Theory\n",
    "\n",
    "Here we will build a Naive Bayes Classifier for the Spam/Ham classification problem. Naive Bayes is built on Bayes theorem, as given below:\n",
    "\n",
    "$P(A|B) = \\displaystyle \\frac{P(B|A)P(A)}{P(B|A)P(A)+P(B|\\neg A)P(\\neg A)} $\n",
    "\n",
    "In the email classification domain we would treat the event $A$ as the \"this email is spam\" and then the event $B$ as some feature of the given email.\n",
    "\n",
    "A common $B$ feature to use would be the existance of a certain word. Thus if we set some event $V$ as \"the message contains the word viagra\", then $P(A|V)$ would be the probability that an email is spam given that it contains the word \"Viagra\". \n",
    "\n",
    "Key passage:\n",
    "> The key to Naive Bayes is making the (big) assumption that the precences (or absences)                                                                                                  of each word are independent of one another, conditional on the message being spam or not.\n",
    "                                                                                                 \n",
    "Given this independence assumption we can make take the following mathematical step:\n",
    "\n",
    "$\\displaystyle P(X_1 = x_1, \\ldots, X_n = x_n | S) = P(X_1=x_1|S) \\times \\cdots \\times P(X_n=x_n|S) = \\prod_{i=1}^n P(X_i=x_i|S)$\n",
    "\n",
    "Thus applying Bayes Theorem we can calculate the probability of a message being spam or                                                                                                  not by simply coming up with an estimate for $P(X_i|S)$ and $P(X_i|\\neg S)$ for each feature $X_i$. If we use word existance for our feature, estimating these values is then as simple as counting words from labeled spam/ham messages, given the following \"smoothing\" measure to account for missing data (called _pseudocounting_):\n",
    "\n",
    "$P(X_i|S) = \\displaystyle \\frac{k + \\text{ number of spams containing } w_i}{2k + \\text{number of spams}}$"
   ]
  },
  {
   "cell_type": "markdown",
   "metadata": {},
   "source": [
    "### An Implementation"
   ]
  },
  {
   "cell_type": "code",
   "execution_count": 1,
   "metadata": {},
   "outputs": [],
   "source": [
    "from collections import defaultdict, Counter\n",
    "import math\n",
    "class NaiveBayesClassifier:\n",
    "    def __init__(self, k=0.5):\n",
    "        self.k = k\n",
    "        self.word_probs = []\n",
    "\n",
    "    def train(self, training_set):\n",
    "    \n",
    "        # count spam and non-spam messages\n",
    "        num_spams = len([is_spam \n",
    "                         for message, is_spam in training_set \n",
    "                         if is_spam])\n",
    "        num_non_spams = len(training_set) - num_spams\n",
    "\n",
    "        # run training data through our \"pipeline\"\n",
    "        word_counts = NaiveBayesClassifier.count_words(training_set)\n",
    "        self.word_probs = NaiveBayesClassifier \\\n",
    "                            .word_probabilities(word_counts, \n",
    "                                                 num_spams, \n",
    "                                                 num_non_spams,\n",
    "                                                 self.k)\n",
    "        \n",
    "    def classify(self, message):\n",
    "        return NaiveBayesClassifier.spam_probability(self.word_probs, message)\n",
    "        \n",
    "    \n",
    "    \"\"\"\n",
    "        Static methods\n",
    "    \"\"\"\n",
    "    def tokenize(message):\n",
    "        message = message.lower()                       # convert to lowercase\n",
    "        all_words = re.findall(\"[a-z0-9']+\", message)   # extract the words\n",
    "        return set(all_words)                           # remove duplicates\n",
    "\n",
    "\n",
    "    def count_words(training_set):\n",
    "        \"\"\"training set consists of pairs (message, is_spam)\"\"\"\n",
    "        counts = defaultdict(lambda: [0, 0])\n",
    "        for message, is_spam in training_set:\n",
    "            for word in NaiveBayesClassifier.tokenize(message):\n",
    "                counts[word][0 if is_spam else 1] += 1\n",
    "        return counts\n",
    "\n",
    "    def word_probabilities(counts, total_spams, total_non_spams, k=0.5):\n",
    "        \"\"\"turn the word_counts into a list of triplets \n",
    "        w, p(w | spam) and p(w | ~spam)\"\"\"\n",
    "        return [(w,\n",
    "                 (spam + k) / (total_spams + 2 * k),\n",
    "                 (non_spam + k) / (total_non_spams + 2 * k))\n",
    "                 for w, (spam, non_spam) in counts.items()]\n",
    "\n",
    "    def spam_probability(word_probs, message):\n",
    "        message_words = NaiveBayesClassifier.tokenize(message)\n",
    "        log_prob_if_spam = log_prob_if_not_spam = 0.0\n",
    "        \n",
    "        # iterate through each word in our vocab\n",
    "        for word, prob_if_spam, prob_if_not_spam in word_probs:\n",
    "\n",
    "            # for each word in the message, \n",
    "            # add the log probability of seeing it \n",
    "            if word in message_words:\n",
    "                log_prob_if_spam += math.log(prob_if_spam)\n",
    "                log_prob_if_not_spam += math.log(prob_if_not_spam)\n",
    "\n",
    "            # for each word that's not in the message\n",
    "            # add the log probability of _not_ seeing it\n",
    "            else:\n",
    "                log_prob_if_spam += math.log(1.0 - prob_if_spam)\n",
    "                log_prob_if_not_spam += math.log(1.0 - prob_if_not_spam)\n",
    "                \n",
    "        prob_if_spam = math.exp(log_prob_if_spam)\n",
    "        prob_if_not_spam = math.exp(log_prob_if_not_spam)\n",
    "        return prob_if_spam / (prob_if_spam + prob_if_not_spam)"
   ]
  },
  {
   "cell_type": "markdown",
   "metadata": {},
   "source": [
    "### Using some data\n",
    "\n",
    "Using the SpamAssassin public corpus (use `./DownloadCh13SpamData.sh` to download the data)"
   ]
  },
  {
   "cell_type": "code",
   "execution_count": 1,
   "metadata": {},
   "outputs": [
    {
     "name": "stdout",
     "output_type": "stream",
     "text": [
      "importing Jupyter notebook from Chapter11.ipynb\n"
     ]
    }
   ],
   "source": [
    "if __name__ == \"__main__\":\n",
    "    import glob, re, sys, random\n",
    "    # Import NotebookLoader\n",
    "    %run -i AddNBL.py\n",
    "    import Chapter11 as CH11\n",
    "    \n",
    "    path = r\"./Ch13_data/*/*\"\n",
    "    \n",
    "    data = []\n",
    "    \n",
    "    # use glob.glob to return every filename that matches our path wildcard\n",
    "    for fn in glob.glob(path):\n",
    "        is_spam = \"ham\" not in fn\n",
    "        \n",
    "        with open(fn,'r',encoding = \"ISO-8859-1\") as file:\n",
    "            for line in file:\n",
    "                if line.startswith(\"Subject:\"):\n",
    "                    # remove the leading \"Subject:\" and keep what is left\n",
    "                    subject = re.sub(r\"^Subject: \", \"\", line).strip()\n",
    "                    data.append((subject, is_spam))"
   ]
  },
  {
   "cell_type": "markdown",
   "metadata": {},
   "source": [
    "### Spam vs Ham"
   ]
  },
  {
   "cell_type": "code",
   "execution_count": 3,
   "metadata": {},
   "outputs": [
    {
     "name": "stdout",
     "output_type": "stream",
     "text": [
      "There are 503 Spam\n",
      "There are 2920 Ham\n",
      "This gives a spam-ham ratio of 0.17226027397260274\n"
     ]
    }
   ],
   "source": [
    "if __name__ == \"__main__\":\n",
    "    numSpam = sum([1 for _,isSpam in data if isSpam])\n",
    "    numHam = len(data) - numSpam\n",
    "    print(\"There are {0} Spam\\nThere are {1} Ham\".format(numSpam, numHam))\n",
    "    print(\"This gives a spam-ham ratio of {0}\".format(numSpam/numHam))"
   ]
  },
  {
   "cell_type": "markdown",
   "metadata": {},
   "source": [
    "### Train classifier"
   ]
  },
  {
   "cell_type": "code",
   "execution_count": 4,
   "metadata": {},
   "outputs": [],
   "source": [
    "if __name__ == \"__main__\":\n",
    "    # set seed for consistency\n",
    "    random.seed(0) \n",
    "    \n",
    "    train_data, test_data = CH11.split_data(data, 0.75)\n",
    "    \n",
    "    classifier = NaiveBayesClassifier()\n",
    "    classifier.train(train_data)"
   ]
  },
  {
   "cell_type": "markdown",
   "metadata": {},
   "source": [
    "### Classify Testing Data"
   ]
  },
  {
   "cell_type": "code",
   "execution_count": 5,
   "metadata": {},
   "outputs": [
    {
     "name": "stdout",
     "output_type": "stream",
     "text": [
      "Counter({(False, False): 704, (True, True): 101, (True, False): 38, (False, True): 33})\n"
     ]
    }
   ],
   "source": [
    "if __name__ == \"__main__\":\n",
    "    # make triplets: (subject, actual is_spam, predicted is_spam prob)\n",
    "    classified = [(subject, is_spam, classifier.classify(subject))\n",
    "                  for subject, is_spam in test_data]\n",
    "    \n",
    "    # assume 0.5 probability cutoff, count combinations of (is_spam, pred_is_spam)\n",
    "    counts = Counter((is_spam, spam_prob > 0.5) \n",
    "                     for _, is_spam, spam_prob in classified)\n",
    "    \n",
    "    print(counts)"
   ]
  },
  {
   "cell_type": "markdown",
   "metadata": {},
   "source": [
    "### Pull out Accuracy, Precision, Recall, and $F_1$ Score"
   ]
  },
  {
   "cell_type": "code",
   "execution_count": 6,
   "metadata": {},
   "outputs": [
    {
     "name": "stdout",
     "output_type": "stream",
     "text": [
      "True Negatives: 704\n",
      "True Positives: 101\n",
      "False Negatives: 38\n",
      "False Positves: 33\n",
      "Accuracy: 0.919\n",
      "Precision: 0.754\n",
      "Recall: 0.727\n",
      "F1 Score: 0.740\n"
     ]
    }
   ],
   "source": [
    "if __name__ == \"__main__\":\n",
    "    TN = counts[(False, False)]\n",
    "    TP = counts[(True, True)]\n",
    "    FN = counts[(True, False)]\n",
    "    FP = counts[(False, True)]\n",
    "    \n",
    "    print(\"True Negatives: {0}\".format(TN))\n",
    "    print(\"True Positives: {0}\".format(TP))\n",
    "    print(\"False Negatives: {0}\".format(FN))\n",
    "    print(\"False Positves: {0}\".format(FP))\n",
    "    \n",
    "    print(\"Accuracy: {0:.3f}\".format(CH11.accuracy(TP, FP, FN, TN)))\n",
    "    print(\"Precision: {0:.3f}\".format(CH11.precision(TP, FP, FN, TN)))\n",
    "    print(\"Recall: {0:.3f}\".format(CH11.recall(TP, FP, FN, TN)))\n",
    "    print(\"F1 Score: {0:.3f}\".format(CH11.f1_score(TP, FP, FN, TN)))"
   ]
  },
  {
   "cell_type": "markdown",
   "metadata": {},
   "source": [
    "### Spammy Hams and Hammy Spams"
   ]
  },
  {
   "cell_type": "code",
   "execution_count": 7,
   "metadata": {},
   "outputs": [
    {
     "name": "stdout",
     "output_type": "stream",
     "text": [
      "Spammiest Hams: [('Attn programmers: support offered [FLOSS-Sarai Initiative]', False, 0.9756129605140703), ('2000+ year old Greek computer reinterpreted', False, 0.9835355008104817), ('What to look for in your next smart phone (Tech Update)', False, 0.9898719206903398), ('[ILUG-Social] Re: Important - reenactor insurance needed', False, 0.9995349057803387), ('[ILUG-Social] Re: Important - reenactor insurance needed', False, 0.9995349057803387)]\n",
      "\n",
      "\n",
      "Hammiest Spams: [('Re: girls', True, 0.0009525186158413664), ('Introducing Chase Platinum for Students with a 0% Introductory APR', True, 0.0012566691211122248), ('.Message report from your contact page....//ytu855 rkq', True, 0.0015109358288642688), ('Testing a system, please delete', True, 0.002692053883693121), ('Never pay for the goodz again (8SimUgQ)', True, 0.005911623221945909)]\n",
      "\n",
      "\n"
     ]
    }
   ],
   "source": [
    "if __name__ == \"__main__\":\n",
    "    # sort by spam prob (ascending)\n",
    "    classified.sort(key = lambda row: row[2])\n",
    "    \n",
    "    # highest predicted spam probabilities among the non-spams\n",
    "    spammiest_hams = list(filter(lambda row: not row[1], classified))[-5:]\n",
    "    \n",
    "    # the lowest predict spam probabilities among the actual spams\n",
    "    hammiest_spams = list(filter(lambda row: row[1], classified))[:5]\n",
    "    \n",
    "    print(\"Spammiest Hams: {0}\\n\\n\".format(spammiest_hams))\n",
    "    print(\"Hammiest Spams: {0}\\n\\n\".format(hammiest_spams))"
   ]
  },
  {
   "cell_type": "markdown",
   "metadata": {},
   "source": [
    "### (Spam|Ham)iest words"
   ]
  },
  {
   "cell_type": "code",
   "execution_count": 8,
   "metadata": {},
   "outputs": [
    {
     "name": "stdout",
     "output_type": "stream",
     "text": [
      "Spammiest Words: [('year', 0.028767123287671233, 0.00022893772893772894), ('rates', 0.031506849315068496, 0.00022893772893772894), ('sale', 0.031506849315068496, 0.00022893772893772894), ('systemworks', 0.036986301369863014, 0.00022893772893772894), ('money', 0.03972602739726028, 0.00022893772893772894)]\n",
      "\n",
      "\n",
      "Hammiest Words: [('spambayes', 0.0013698630136986301, 0.04601648351648352), ('users', 0.0013698630136986301, 0.036401098901098904), ('razor', 0.0013698630136986301, 0.030906593406593408), ('zzzzteana', 0.0013698630136986301, 0.029075091575091576), ('sadev', 0.0013698630136986301, 0.026785714285714284)]\n",
      "\n",
      "\n"
     ]
    }
   ],
   "source": [
    "def p_spam_given_word(word_prob):\n",
    "    \"\"\"uses bayes's theorem to compute p(spam | message contains word)\"\"\"\n",
    "    # word_prob is one of the triplets produced by word_probabilities\n",
    "    word, prob_if_spam, prob_if_not_spam = word_prob\n",
    "    return prob_if_spam / (prob_if_spam + prob_if_not_spam)\n",
    "\n",
    "if __name__ == \"__main__\":\n",
    "    words = sorted(classifier.word_probs, key=p_spam_given_word)\n",
    "    print(\"Spammiest Words: {0}\\n\\n\".format(words[-5:]))\n",
    "    print(\"Hammiest Words: {0}\\n\\n\".format(words[:5]))"
   ]
  },
  {
   "cell_type": "markdown",
   "metadata": {},
   "source": [
    "### TP/FP Rate Calculator"
   ]
  },
  {
   "cell_type": "code",
   "execution_count": 9,
   "metadata": {},
   "outputs": [],
   "source": [
    "# make ROC values given p threshold (returns (false positive rate, true posiitve rate pair))\n",
    "def calc_fp_tp_rates(p, classified):\n",
    "    # assume 0.5 probability cutoff, count combinations of (is_spam, pred_is_spam)\n",
    "    counts = Counter((is_spam, spam_prob > p) \n",
    "                     for _, is_spam, spam_prob in classified)\n",
    "    \n",
    "    # get counts \n",
    "    TN = counts[(False, False)]\n",
    "    TP = counts[(True, True)]\n",
    "    FN = counts[(True, False)]\n",
    "    FP = counts[(False, True)]\n",
    "    \n",
    "    # false positive rate is FP/(FP + TN)\n",
    "    fpr = FP/(FP + TN)\n",
    "    \n",
    "    # true positive rate is TP/(TP + FN)\n",
    "    tpr = TP/(TP + FN)\n",
    "    \n",
    "    return (fpr, tpr)"
   ]
  },
  {
   "cell_type": "markdown",
   "metadata": {},
   "source": [
    "### Plot ROC Curve\n",
    "\n",
    "We will do this by varying the probability threshold over the interval $[0,1]$ and caclulating the $TP$ (true positive) and $FP$ (false positive) rates for each value in the interval."
   ]
  },
  {
   "cell_type": "code",
   "execution_count": 12,
   "metadata": {},
   "outputs": [
    {
     "data": {
      "image/png": "[encoded data removed]",
      "text/plain": [
       "<matplotlib.figure.Figure at 0x1111ffbe0>"
      ]
     },
     "metadata": {},
     "output_type": "display_data"
    }
   ],
   "source": [
    "if __name__ == \"__main__\":\n",
    "    # Imports \n",
    "    import numpy as np\n",
    "    %matplotlib inline\n",
    "    import matplotlib.pyplot as plt\n",
    "    from matplotlib.collections import LineCollection\n",
    "    from matplotlib.colors import ListedColormap, BoundaryNorm\n",
    "    from pylab import rcParams\n",
    "    import my_utils\n",
    "    \n",
    "    # Set plot size\n",
    "    rcParams['figure.figsize'] = 15,15\n",
    "\n",
    "    # calculate ROC vals for each probability value over [0,1]\n",
    "    interval = my_utils.linspace(0, 1, 1000)\n",
    "    roc_vals = [calc_fp_tp_rates(p, classified) for p in interval]\n",
    "    \n",
    "    # unzip into x (FP) and y(TP) arrays\n",
    "    x, y = zip(*roc_vals)\n",
    "    \n",
    "    # Make LineCollection (allows continuous line coloring according to colormap)\n",
    "    points = np.array([np.array(x), np.array(y)]).T.reshape(-1, 1, 2)\n",
    "    segments = np.concatenate([points[:-1], points[1:]], axis=1)\n",
    "    lc = LineCollection(segments, cmap=plt.get_cmap('nipy_spectral'), norm=plt.Normalize(0, 1))\n",
    "    interval = np.array(interval)\n",
    "    lc.set_array(interval)\n",
    "    lc.set_linewidth(3)\n",
    "    \n",
    "    # Make figure and set params\n",
    "    fig2 = plt.figure()\n",
    "    plt.gca().add_collection(lc)\n",
    "    plt.xlim(0, 1)\n",
    "    plt.ylim(0, 1)\n",
    "    plt.xlabel(\"False Positive Rate\")\n",
    "    plt.ylabel(\"True Positive Rate\")\n",
    "    plt.title(\"Naive Bayes Classifier ROC Curve\")\n",
    "    cbar = fig2.colorbar(lc, ticks=[0, 0.5, 1], orientation='horizontal', label=\"Probability Threshold\")\n",
    "    \n",
    "    # Add reference identity line (represents random guess threshold)\n",
    "    plt.plot([0,1], 'k--')\n",
    "    \n",
    "    # Show the figure\n",
    "    plt.show()"
   ]
  },
  {
   "cell_type": "markdown",
   "metadata": {},
   "source": [
    "### Area Under ROC Curve\n",
    "\n",
    "We can now estimate the Area Under the ROC curve (another measure of model performance) using the Trapezoidal Rule for numerical integration.\n",
    "\n",
    "Recall that the area of a trapezoid is given by $A \\displaystyle = \\frac{a+b}{2}\\cdot h$. Thus given a series of $(x_i, y_i)$ pairs (where the $x_i$'s are monotonically increasing) the area under the curve can be approximated by:\n",
    "\n",
    "$\\text{Area Under Curve (AUROC) } \\approx \\displaystyle \\sum^{n-1}_{i=1} \\frac{y_i + y_{i+1}}{2} \\cdot (x_{i+1} - x_i)$"
   ]
  },
  {
   "cell_type": "code",
   "execution_count": 13,
   "metadata": {},
   "outputs": [
    {
     "name": "stdout",
     "output_type": "stream",
     "text": [
      "The Area Under the ROC Curve is 0.949\n"
     ]
    }
   ],
   "source": [
    "def trapezoidal_rule_AUC(x_y_pts):\n",
    "    \"\"\"\n",
    "        Returns an approx of the area under the curve defined by the x_y_points\n",
    "        ** Assumes that the x values are monotonically increasing\n",
    "    \"\"\"\n",
    "    return sum([((y_i + y_i1)/2) * (x_i1 - x_i) for (x_i, y_i), (x_i1, y_i1) in zip(x_y_pts[:-1], x_y_pts[1:])])\n",
    "\n",
    "if __name__ == \"__main__\":\n",
    "    # need to reverse roc_vals, x is descending\n",
    "    roc_vals.reverse()\n",
    "    auc = trapezoidal_rule_AUC(roc_vals)\n",
    "    print(\"The Area Under the ROC Curve is {0:.3f}\".format(auc))"
   ]
  },
  {
   "cell_type": "markdown",
   "metadata": {},
   "source": [
    "Thus our ROC AUC is close to 1 (maximum) so our model performs pretty well."
   ]
  }
 ],
 "metadata": {
  "kernelspec": {
   "display_name": "Python 3",
   "language": "python",
   "name": "python3"
  },
  "language_info": {
   "codemirror_mode": {
    "name": "ipython",
    "version": 3
   },
   "file_extension": ".py",
   "mimetype": "text/x-python",
   "name": "python",
   "nbconvert_exporter": "python",
   "pygments_lexer": "ipython3",
   "version": "3.5.2"
  }
 },
 "nbformat": 4,
 "nbformat_minor": 2
}
