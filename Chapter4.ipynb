{
 "cells": [
  {
   "cell_type": "markdown",
   "metadata": {},
   "source": [
    "# Chapter 4: Linear Algebra"
   ]
  },
  {
   "cell_type": "markdown",
   "metadata": {},
   "source": [
    "### Vectors"
   ]
  },
  {
   "cell_type": "code",
   "execution_count": 1,
   "metadata": {
    "collapsed": true
   },
   "outputs": [],
   "source": [
    "### VECTORS ###\n",
    "def vector_add(v, w):\n",
    "    \"\"\"adds corresponding elements\"\"\"\n",
    "    # zip makes a list of 2-tuples from each list v and w\n",
    "    return [v_i + w_i for v_i, w_i in zip(v, w)]\n",
    "\n",
    "\n",
    "def vector_subtract(v, w):\n",
    "    \"\"\"adds corresponding elements\"\"\"\n",
    "    # zip makes a list of 2-tuples from each list v and w\n",
    "    return [v_i - w_i for v_i, w_i in zip(v, w)]\n",
    "\n",
    "def vector_sum(vectors):\n",
    "    \"\"\"sums all corresponding elements\"\"\"\n",
    "    # reduce along the list of vectors using the sum function\n",
    "    return reduce(vector_add, vectors)\n",
    "\n",
    "def scalar_multiply(c,v):\n",
    "    \"\"\"c is a number, v is a vector\"\"\"\n",
    "    return [c * v_i for v_i in v]\n",
    "\n",
    "\n",
    "def vector_mean(vectors):\n",
    "    \"\"\"compute the vector whose ith element is the mean of the ith elements\n",
    "    of the input vectors\"\"\"\n",
    "    n = len(vectors)\n",
    "    return scalar_multiply(1/n, vector_sum(vectors))\n",
    "\n",
    "def dot(v, w):\n",
    "    \"\"\"v_1 * w_1 + ... + v_n * w_n\"\"\"\n",
    "    return sum(v_i * w_i for v_i, w_i in zip(v, w))\n",
    "\n",
    "def sum_of_squares(v):\n",
    "    return dot(v,v)\n",
    "\n",
    "import math\n",
    "\n",
    "def magnitude(v):\n",
    "    return math.sqrt(sum_of_squares(v))\n",
    "\n",
    "def distance(v, w):\n",
    "    return magnitude(vector_subtract(v,w))"
   ]
  },
  {
   "cell_type": "markdown",
   "metadata": {},
   "source": [
    "### Matrices"
   ]
  },
  {
   "cell_type": "code",
   "execution_count": 2,
   "metadata": {
    "collapsed": true
   },
   "outputs": [],
   "source": [
    "### MATRICES ###\n",
    "\n",
    "# For now we represent matrices as lists of lists\n",
    "\n",
    "# Returns a tuple: (# rows, # cols)\n",
    "def shape(A):\n",
    "    num_rows = len(A)\n",
    "    # Python ternary use\n",
    "    num_cols = len(A[0]) if A else 0\n",
    "    return num_rows, num_cols\n",
    "\n",
    "def get_row(A, i):\n",
    "    return A[i]\n",
    "\n",
    "def get_col(A, j):\n",
    "    return [A_i[j] for A_i in A]\n",
    "\n",
    "# Populates a matrix using the passed entry_fn\n",
    "def make_matrix(num_rows, num_cols, entry_fn):\n",
    "    return [[entry_fn(i,j) for j in range(num_cols)] for i in range(num_rows)]\n",
    "\n",
    "# Example usage:\n",
    "\"\"\"\n",
    ">> entry_fn = lambda i,j: i + j\n",
    "\n",
    ">> make_matrix(5,5,entry_fn)\n",
    "Out: \n",
    "[[0, 1, 2, 3, 4],\n",
    " [1, 2, 3, 4, 5],\n",
    " [2, 3, 4, 5, 6],\n",
    " [3, 4, 5, 6, 7],\n",
    " [4, 5, 6, 7, 8]]\n",
    "\n",
    "\"\"\"\n",
    "\n",
    "# Determines if coordinates i, j lie along a diagonal\n",
    "def is_diagonal(i, j):\n",
    "    return 1 if i == j else 0\n",
    "\n",
    "# Makes a dim x dim identity matrix\n",
    "def eye(dim):\n",
    "    return make_matrix(dim, dim, is_diagonal)"
   ]
  }
 ],
 "metadata": {
  "kernelspec": {
   "display_name": "Python 3",
   "language": "python",
   "name": "python3"
  },
  "language_info": {
   "codemirror_mode": {
    "name": "ipython",
    "version": 3
   },
   "file_extension": ".py",
   "mimetype": "text/x-python",
   "name": "python",
   "nbconvert_exporter": "python",
   "pygments_lexer": "ipython3",
   "version": "3.5.2"
  }
 },
 "nbformat": 4,
 "nbformat_minor": 2
}
