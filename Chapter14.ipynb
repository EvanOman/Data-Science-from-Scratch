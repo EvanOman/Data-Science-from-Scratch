{
 "cells": [
  {
   "cell_type": "markdown",
   "metadata": {},
   "source": [
    "# Chapter 14: Simple Linear Regression\n",
    "\n",
    "\n",
    "\n",
    "Goal: given a set of features $X$ and outputs $Y$ we want find parameters $\\alpha$ and $\\beta$ such that $y_i = \\beta x_i + \\alpha + \\varepsilon_i$. We will find these parameters by minimizing the sum of squared errors defined below:\n",
    "\n",
    "$SQE = \\displaystyle \\sum^n_i (y_i - \\hat{y_i})^2$\n",
    "\n",
    "where $\\hat{y_i}$ is the predicted value.\n",
    "\n",
    "We will use Graident Descent to find these parameters. For simplicity we will write $\\theta = [\\alpha, \\beta]$"
   ]
  },
  {
   "cell_type": "code",
   "execution_count": 1,
   "metadata": {},
   "outputs": [
    {
     "name": "stdout",
     "output_type": "stream",
     "text": [
      "importing Jupyter notebook from Chapter8.ipynb\n",
      "importing Jupyter notebook from Chapter4.ipynb\n"
     ]
    }
   ],
   "source": [
    "# Import NotebookLoader\n",
    "%run -i AddNBL.py\n",
    "import Chapter8 as Ch8\n",
    "\n",
    "def predict(alpha, beta, x_i):\n",
    "    return beta * x_i + alpha\n",
    "\n",
    "def error(alpha, beta, x_i, y_i):\n",
    "    \"\"\" error from predicting beta * x_i + alpha when actual is y_i \"\"\"\n",
    "    return y_i - predict(alpha, beta, x_i)\n",
    "\n",
    "def sum_of_squared_error(alpha, beta, x, y):\n",
    "    return sum(error(alpha, beta, x_i, y_i) ** 2 for x_i, y_i in zip(x, y))\n",
    "\n",
    "def squared_error(x_i, y_i, theta):\n",
    "    alpha, beta = theta\n",
    "    return error(alpha, beta, x_i, y_i) ** 2\n",
    "\n",
    "def squared_error_gradient(x_i, y_i, theta):\n",
    "    alpha, beta = theta\n",
    "    return [-2 * error(alpha, beta, x_i, y_i),       # alpha partial derivative\n",
    "            -2 * error(alpha, beta, x_i, y_i) * x_i] # beta partial derivative"
   ]
  },
  {
   "cell_type": "markdown",
   "metadata": {},
   "source": [
    "### Run on some sample data\n",
    "\n",
    "Generate data according to $y = 2x_1 + 4$"
   ]
  },
  {
   "cell_type": "code",
   "execution_count": 2,
   "metadata": {},
   "outputs": [
    {
     "data": {
      "text/plain": [
       "9"
      ]
     },
     "execution_count": 2,
     "metadata": {},
     "output_type": "execute_result"
    }
   ],
   "source": [
    "squared_error(2, 2, [1, 2])"
   ]
  },
  {
   "cell_type": "code",
   "execution_count": 3,
   "metadata": {},
   "outputs": [
    {
     "name": "stdout",
     "output_type": "stream",
     "text": [
      "Truth alpha is 4, solved is 3.9999999999997886\n",
      "Truth beta is 2, solved is 2.000000000000036\n"
     ]
    }
   ],
   "source": [
    "if __name__ == \"__main__\":\n",
    "    import random\n",
    "    random.seed(0)\n",
    "    truth_alpha, truth_beta = [4, 2]\n",
    "    \n",
    "    x_truth = [10*random.random() for _ in range(10)]\n",
    "    y_truth = [predict(truth_alpha, truth_beta, x_i) for x_i in x_truth]\n",
    "    \n",
    "    \n",
    "    # choose random value to start\n",
    "    theta = [random.random(), random.random()]\n",
    "    \n",
    "    alpha, beta = Ch8.minimize_stochastic(squared_error, \n",
    "                                          squared_error_gradient,\n",
    "                                          x_truth,\n",
    "                                          y_truth,\n",
    "                                          theta, \n",
    "                                          .001\n",
    "                                          )\n",
    "    print(\"Truth alpha is {0}, solved is {1}\".format(truth_alpha, alpha) +\n",
    "          \"\\nTruth beta is {0}, solved is {1}\".format(truth_beta, beta))"
   ]
  }
 ],
 "metadata": {
  "kernelspec": {
   "display_name": "Python 3",
   "language": "python",
   "name": "python3"
  },
  "language_info": {
   "codemirror_mode": {
    "name": "ipython",
    "version": 3
   },
   "file_extension": ".py",
   "mimetype": "text/x-python",
   "name": "python",
   "nbconvert_exporter": "python",
   "pygments_lexer": "ipython3",
   "version": "3.5.2"
  }
 },
 "nbformat": 4,
 "nbformat_minor": 2
}
