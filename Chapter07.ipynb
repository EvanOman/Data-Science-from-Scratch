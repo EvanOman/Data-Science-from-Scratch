{
 "cells": [
  {
   "cell_type": "markdown",
   "metadata": {},
   "source": [
    "# Chapter 7: Hypothesis and Inference "
   ]
  },
  {
   "cell_type": "code",
   "execution_count": 5,
   "metadata": {
    "collapsed": true
   },
   "outputs": [],
   "source": [
    "# Import NotebookLoader\n",
    "%run -i AddNBL.py"
   ]
  },
  {
   "cell_type": "code",
   "execution_count": 14,
   "metadata": {},
   "outputs": [],
   "source": [
    "# Chapter 7: \n",
    "from __future__ import division\n",
    "import Chapter6 as Ch6\n",
    "import math\n",
    "import random\n",
    "\n",
    "# We want to check whether a given coin is fair. So we make our null hypothesis\n",
    "# that the coin is fair (p = .5) and the alternative hypothesis that the coin is\n",
    "# not fair (p =/= .5)\n",
    "\n",
    "# Our test will then involve flipping the coin n times. We use the bernoulli \n",
    "# trials and normal approximation explored in Chapter 6 \n",
    "\n",
    "def normal_approximation_to_binomial(n, p):\n",
    "    \"\"\"Finds mu and sigma corresponding to a Binomial(n, p)\"\"\"\n",
    "    mu = p * n\n",
    "    \n",
    "    # p*q*n\n",
    "    sigma = math.sqrt(p*(1-p)*n)\n",
    "    \n",
    "    return mu, sigma\n",
    "\n",
    "if __name__ == \"__main__\":\n",
    "    # probability that variable is below threshold\n",
    "    normal_probability_below = Ch6.normal_cdf\n",
    "\n",
    "# it is above the threshold if it isn't below the threshold\n",
    "def normal_probabilty_above(lo, mu=0, sigma=1):\n",
    "    return 1 - Ch6.normal_cdf(lo, mu, sigma)\n",
    "\n",
    "\n",
    "# it is in between if it is less than hi but not let than lo\n",
    "def normal_probability_between(lo, hi, mu=0, sigma=1):\n",
    "    return Ch6.normal_cdf(hi, mu, sigma) - Ch6.normal_cdf(lo, mu, sigma)\n",
    "    \n",
    "# it is outside if it is not in between\n",
    "def normal_probability_outside(lo, hi, mu=0, sigma=1):\n",
    "    return 1 - normal_probability_between(lo, hi, sigma, mu)\n",
    "    \n",
    "\n",
    "# We can also perform the reverse of all the above operations to find z values\n",
    "# corresponding to certain p ranges\n",
    "\n",
    "def normal_upper_bound(probability, mu=0, sigma=1):\n",
    "    \"\"\"returns the z for which p(Z <= z) = probability\"\"\"\n",
    "    return Ch6.inverse_normal_cdf(probability, mu, sigma)\n",
    "    \n",
    "def normal_lower_bound(probability, mu=0, sigma=1):\n",
    "    \"\"\"returns the z for which p(Z >= z) = probability\"\"\"\n",
    "    return Ch6.inverse_normal_cdf(1 - probability, mu, sigma)\n",
    "    \n",
    "def normal_two_sided_bounds(probability, mu=0, sigma=1):\n",
    "    \"\"\"returns the symmetric(about the mean) bounds that contain specified p\"\"\"\n",
    "    tail_probability = (1 - probability) / 2\n",
    "    \n",
    "    # upper bound should have tail_probability above it\n",
    "    upper_bound = normal_lower_bound(tail_probability, mu, sigma)\n",
    "    \n",
    "    \n",
    "    # lower bound should have tail_probability below it\n",
    "    lower_bound = normal_upper_bound(tail_probability, mu, sigma)\n",
    "    \n",
    "    return lower_bound, upper_bound"
   ]
  },
  {
   "cell_type": "code",
   "execution_count": 15,
   "metadata": {},
   "outputs": [
    {
     "name": "stdout",
     "output_type": "stream",
     "text": [
      "The power is 0.886548\n",
      "The upper limit is 526.007359\n",
      "The power is 0.936379\n"
     ]
    }
   ],
   "source": [
    "if __name__ == \"__main__\":\n",
    "    # In particular, suppose we were to flip a coin 100 times. If our hypothesis is \n",
    "    # true, X should be distributed approximately normally iwth mean 50 and std 15.8\n",
    "    mu_0, sigma_0 = normal_approximation_to_binomial(1000,.5)\n",
    "\n",
    "    # We now need to decide on a level of significance, that is how willing are\n",
    "    # we to make a type I, false positive error with respect to H_0\n",
    "\n",
    "    # Suppose H_0 falls out the following bounds:\n",
    "    normal_two_sided_bounds(.95, sigma_0, mu_0) # (469, 531)\n",
    "\n",
    "    # Then we say that we reject the null hypothesis because we should be 95% \n",
    "    # confident that the mean should lie within the range (469, 531)\n",
    "\n",
    "    # Here we want to check what happens when p = .55\n",
    "\n",
    "    # 95% bounds based on assumption that p = .5\n",
    "    lo, hi = normal_two_sided_bounds(.95, mu_0, sigma_0)\n",
    "\n",
    "    # actual mu and sigma based on p = .55\n",
    "    mu_1, sigma_1 = normal_approximation_to_binomial(1000, .55)\n",
    "\n",
    "    # a type 2 error means we fail to reject the null hypothesis\n",
    "    # which will happen when X is still in our original interval\n",
    "    type_2_probability = normal_probability_between(lo, hi, mu_1, sigma_1)\n",
    "    power = 1 - type_2_probability\n",
    "    print(\"The power is {:f}\".format(power)) # .887\n",
    "\n",
    "    # Suppose instead we assumed that the coin is not biassed against heads, \n",
    "    # this is, p <= .5. Here we would use the one sided test:\n",
    "    hi = normal_upper_bound(.95, mu_0, sigma_0)\n",
    "    print(\"The upper limit is {:f}\".format(hi)) # 526\n",
    "\n",
    "    type_2_probability = normal_probability_below(hi, mu_1, sigma_1)\n",
    "    power = 1 - type_2_probability\n",
    "    print(\"The power is {:f}\".format(power)) #.936"
   ]
  },
  {
   "cell_type": "code",
   "execution_count": 16,
   "metadata": {
    "collapsed": true
   },
   "outputs": [],
   "source": [
    "# Instead of specifying the bounds, we compute the probability, assuming that\n",
    "# H_0 is true, that the system exhibits the observed value\n",
    "def two_sided_p_value(x, mu=0, sigma=1):\n",
    "    # essentially we are figuring out which tail to compute and return the \n",
    "    # double of\n",
    "    if x >= mu:\n",
    "        # if x is greater than the mean, the tail is what's greater than x\n",
    "        return 2 * normal_probabilty_above(x, mu, sigma)\n",
    "    else:\n",
    "        # if x is less than the mean, the tail is what's less than x\n",
    "        return 2 * normal_probability_below(x, mu, sigma)"
   ]
  },
  {
   "cell_type": "code",
   "execution_count": 17,
   "metadata": {},
   "outputs": [
    {
     "name": "stdout",
     "output_type": "stream",
     "text": [
      "The p-value is 0.062077\n",
      "The percentage that were extreme was 0.061230\n"
     ]
    }
   ],
   "source": [
    "if __name__ == \"__main__\":\n",
    "    # If we got 530 heads we would get:\n",
    "    print(\"The p-value is {:f}\".format(two_sided_p_value(529.5, mu_0, sigma_0))) # .062\n",
    "\n",
    "    # NOTE: We use 529.5 instead of 530 because of the continuity correction\n",
    "\n",
    "    # Empirical verification of the above p value\n",
    "    extreme_value_count = 0\n",
    "    for _ in range(100000):\n",
    "        num_heads = sum(1 if random.random() < .5 else 0 for _ in range(1000))\n",
    "\n",
    "        if num_heads >= 530 or num_heads <= 470:\n",
    "            extreme_value_count += 1\n",
    "\n",
    "    print(\"The percentage that were extreme was {:f}\".format(extreme_value_count / 100000))\n",
    "    # .062"
   ]
  },
  {
   "cell_type": "code",
   "execution_count": 18,
   "metadata": {},
   "outputs": [
    {
     "name": "stdout",
     "output_type": "stream",
     "text": [
      "Upper: 0.060629\n",
      "Upper: 0.046868\n"
     ]
    }
   ],
   "source": [
    "if __name__ == \"__main__\":\n",
    "    # Similarily we have:\n",
    "    upper_p_value = normal_probabilty_above\n",
    "    lower_p_value = normal_probability_below\n",
    "\n",
    "    print(\"Upper: {:f}\".format(upper_p_value(524.5, mu_0, sigma_0))) # .061\n",
    "    print(\"Upper: {:f}\".format(upper_p_value(526.5, mu_0, sigma_0))) # .047\n",
    "\n",
    "    # In the former case, we are above .05 so we fail to reject the null hyp.\n",
    "    # In the latter case, we are below .05 so we reject the null hypothesis"
   ]
  },
  {
   "cell_type": "code",
   "execution_count": null,
   "metadata": {
    "collapsed": true
   },
   "outputs": [],
   "source": []
  }
 ],
 "metadata": {
  "kernelspec": {
   "display_name": "Python 3",
   "language": "python",
   "name": "python3"
  },
  "language_info": {
   "codemirror_mode": {
    "name": "ipython",
    "version": 3
   },
   "file_extension": ".py",
   "mimetype": "text/x-python",
   "name": "python",
   "nbconvert_exporter": "python",
   "pygments_lexer": "ipython3",
   "version": "3.5.2"
  }
 },
 "nbformat": 4,
 "nbformat_minor": 2
}
